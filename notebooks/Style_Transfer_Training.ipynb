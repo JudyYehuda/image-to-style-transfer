{
 "cells": [
  {
   "cell_type": "markdown",
   "id": "6d8069a2",
   "metadata": {},
   "source": [
    "# Style Transfer Training"
   ]
  },
  {
   "cell_type": "markdown",
   "id": "8b836130",
   "metadata": {},
   "source": [
    "This notebook will be used to train the style transfer model."
   ]
  },
  {
   "cell_type": "markdown",
   "id": "af9e7b43",
   "metadata": {},
   "source": [
    "## 1. Setup"
   ]
  },
  {
   "cell_type": "markdown",
   "id": "50d1007e",
   "metadata": {},
   "source": [
    "### 1.1. Mount Google Drive"
   ]
  },
  {
   "cell_type": "code",
   "execution_count": null,
   "id": "97d91edb",
   "metadata": {},
   "outputs": [],
   "source": [
    "from google.colab import drive\n",
    "drive.mount('/content/drive')"
   ]
  },
  {
   "cell_type": "markdown",
   "id": "f4489c81",
   "metadata": {},
   "source": [
    "### 1.2. Download Dataset"
   ]
  },
  {
   "cell_type": "markdown",
   "id": "6c14a3d8",
   "metadata": {},
   "source": [
    "Make sure your dataset is accessible via a shareable link from Google Drive."
   ]
  },
  {
   "cell_type": "code",
   "execution_count": null,
   "id": "262eeb0b",
   "metadata": {},
   "outputs": [],
   "source": [
    "!pip install gdown\n",
    "\n",
    "import gdown\n",
    "\n",
    "# Replace with the actual file ID of your dataset from Google Drive\n",
    "file_id = '1acx_7IdpUg3OBXSRfnNyyjiZlIiQCE8M' \n",
    "output = 'dataset.zip'\n",
    "\n",
    "gdown.download(id=file_id, output=output, quiet=False)\n",
    "\n",
    "# Unzip the dataset if it's a zip file\n",
    "!unzip -q dataset.zip -d /content/dataset"
   ]
  },
  {
   "cell_type": "markdown",
   "id": "f5d58e02",
   "metadata": {},
   "source": [
    "## 2. Prepare for Training"
   ]
  },
  {
   "cell_type": "markdown",
   "id": "54941145",
   "metadata": {},
   "source": [
    "### 2.1. Install Dependencies"
   ]
  },
  {
   "cell_type": "code",
   "execution_count": null,
   "id": "3987141c",
   "metadata": {},
   "outputs": [],
   "source": [
    "!pip install -q diffusers transformers accelerate peft"
   ]
  },
  {
   "cell_type": "markdown",
   "id": "455f1c55",
   "metadata": {},
   "source": [
    "### 2.2. Define Training Parameters"
   ]
  },
  {
   "cell_type": "code",
   "execution_count": null,
   "id": "26e4315e",
   "metadata": {},
   "outputs": [],
   "source": [
    "# Base model from Hugging Face\n",
    "MODEL_NAME = \"runwayml/stable-diffusion-v1-5\"\n",
    "\n",
    "# Directory with your training images\n",
    "INSTANCE_DIR = \"/content/dataset\"\n",
    "\n",
    "# Directory to save the trained model\n",
    "OUTPUT_DIR = \"/content/models/style-transfer-model\"\n",
    "\n",
    "# The unique prompt that will trigger your style\n",
    "# \"sks\" is a placeholder for a unique token, which is a common practice.\n",
    "INSTANCE_PROMPT = \"a drawing in sks style\""
   ]
  },
  {
   "cell_type": "markdown",
   "id": "e06a7757",
   "metadata": {},
   "source": [
    "### 2.3. Preprocess Images and Create Captions\n",
    "\n",
    "This cell will prepare your dataset for training. It does two things:\n",
    "1. Resizes all your images to 512x512 pixels, which is the standard for Stable Diffusion 1.5.\n",
    "2. Creates a text file for each image with your unique prompt (`INSTANCE_PROMPT`)."
   ]
  },
  {
   "cell_type": "code",
   "execution_count": null,
   "id": "7fd02650",
   "metadata": {},
   "outputs": [],
   "source": [
    "import os\n",
    "from PIL import Image\n",
    "\n",
    "# Create the output directory if it doesn't exist\n",
    "os.makedirs(OUTPUT_DIR, exist_ok=True)\n",
    "\n",
    "image_files = [f for f in os.listdir(INSTANCE_DIR) if f.endswith((\".jpg\", \".jpeg\", \".png\"))]\n",
    "\n",
    "for filename in image_files:\n",
    "    # Create caption file\n",
    "    caption_filename = os.path.splitext(filename)[0] + \".txt\"\n",
    "    with open(os.path.join(INSTANCE_DIR, caption_filename), \"w\") as f:\n",
    "        f.write(INSTANCE_PROMPT)\n",
    "\n",
    "    # Resize image\n",
    "    image_path = os.path.join(INSTANCE_DIR, filename)\n",
    "    try:\n",
    "        with Image.open(image_path) as img:\n",
    "            # Ensure image is in RGB mode\n",
    "            img = img.convert(\"RGB\")\n",
    "            img = img.resize((512, 512), Image.LANCZOS)\n",
    "            img.save(image_path)\n",
    "    except Exception as e:\n",
    "        print(f\"Could not process {filename}: {e}\")\n",
    "\n",
    "print(f\"Processed {len(image_files)} images and created caption files.\")"
   ]
  }
 ],
 "metadata": {},
 "nbformat": 4,
 "nbformat_minor": 5
}
