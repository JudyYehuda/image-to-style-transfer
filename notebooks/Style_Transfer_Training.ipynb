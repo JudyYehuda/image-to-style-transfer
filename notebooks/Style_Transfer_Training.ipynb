{
 "cells": [
  {
   "cell_type": "markdown",
   "id": "6d8069a2",
   "metadata": {},
   "source": [
    "# Style Transfer Training"
   ]
  },
  {
   "cell_type": "markdown",
   "id": "8b836130",
   "metadata": {},
   "source": [
    "This notebook will be used to train the style transfer model."
   ]
  },
  {
   "cell_type": "markdown",
   "id": "af9e7b43",
   "metadata": {},
   "source": [
    "## 1. Setup"
   ]
  },
  {
   "cell_type": "markdown",
   "id": "50d1007e",
   "metadata": {},
   "source": [
    "### 1.1. Mount Google Drive"
   ]
  },
  {
   "cell_type": "code",
   "execution_count": null,
   "id": "97d91edb",
   "metadata": {},
   "outputs": [],
   "source": [
    "from google.colab import drive\n",
    "drive.mount('/content/drive')"
   ]
  },
  {
   "cell_type": "markdown",
   "id": "f4489c81",
   "metadata": {},
   "source": [
    "### 1.2. Download Dataset"
   ]
  },
  {
   "cell_type": "markdown",
   "id": "6c14a3d8",
   "metadata": {},
   "source": [
    "Make sure your dataset is accessible via a shareable link from Google Drive."
   ]
  },
  {
   "cell_type": "code",
   "execution_count": null,
   "id": "262eeb0b",
   "metadata": {},
   "outputs": [],
   "source": [
    "!pip install gdown\n",
    "\n",
    "import gdown\n",
    "\n",
    "# Replace with the actual file ID of your dataset from Google Drive\n",
    "file_id = '1acx_7IdpUg3OBXSRfnNyyjiZlIiQCE8M' \n",
    "output = 'dataset.zip'\n",
    "\n",
    "gdown.download(id=file_id, output=output, quiet=False)\n",
    "\n",
    "# Unzip the dataset if it's a zip file\n",
    "!unzip -q dataset.zip -d /content/dataset"
   ]
  }
 ],
 "metadata": {},
 "nbformat": 4,
 "nbformat_minor": 5
}
